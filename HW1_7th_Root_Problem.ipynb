{
  "cells": [
    {
      "cell_type": "code",
      "execution_count": null,
      "metadata": {
        "colab": {
          "base_uri": "https://localhost:8080/",
          "height": 1000
        },
        "id": "h5jDppFjLd5x",
        "outputId": "4b60ddf3-0dca-4be2-b545-30322eefac2e"
      },
      "outputs": [
        {
          "output_type": "display_data",
          "data": {
            "text/plain": [
              "\u001b[1mModel: \"sequential_41\"\u001b[0m\n"
            ],
            "text/html": [
              "<pre style=\"white-space:pre;overflow-x:auto;line-height:normal;font-family:Menlo,'DejaVu Sans Mono',consolas,'Courier New',monospace\"><span style=\"font-weight: bold\">Model: \"sequential_41\"</span>\n",
              "</pre>\n"
            ]
          },
          "metadata": {}
        },
        {
          "output_type": "display_data",
          "data": {
            "text/plain": [
              "┏━━━━━━━━━━━━━━━━━━━━━━━━━━━━━━━━━━━━━━┳━━━━━━━━━━━━━━━━━━━━━━━━━━━━━┳━━━━━━━━━━━━━━━━━┓\n",
              "┃\u001b[1m \u001b[0m\u001b[1mLayer (type)                        \u001b[0m\u001b[1m \u001b[0m┃\u001b[1m \u001b[0m\u001b[1mOutput Shape               \u001b[0m\u001b[1m \u001b[0m┃\u001b[1m \u001b[0m\u001b[1m        Param #\u001b[0m\u001b[1m \u001b[0m┃\n",
              "┡━━━━━━━━━━━━━━━━━━━━━━━━━━━━━━━━━━━━━━╇━━━━━━━━━━━━━━━━━━━━━━━━━━━━━╇━━━━━━━━━━━━━━━━━┩\n",
              "│ dense_164 (\u001b[38;5;33mDense\u001b[0m)                    │ (\u001b[38;5;45mNone\u001b[0m, \u001b[38;5;34m6\u001b[0m)                   │              \u001b[38;5;34m12\u001b[0m │\n",
              "├──────────────────────────────────────┼─────────────────────────────┼─────────────────┤\n",
              "│ dense_165 (\u001b[38;5;33mDense\u001b[0m)                    │ (\u001b[38;5;45mNone\u001b[0m, \u001b[38;5;34m6\u001b[0m)                   │              \u001b[38;5;34m42\u001b[0m │\n",
              "├──────────────────────────────────────┼─────────────────────────────┼─────────────────┤\n",
              "│ dense_166 (\u001b[38;5;33mDense\u001b[0m)                    │ (\u001b[38;5;45mNone\u001b[0m, \u001b[38;5;34m6\u001b[0m)                   │              \u001b[38;5;34m42\u001b[0m │\n",
              "├──────────────────────────────────────┼─────────────────────────────┼─────────────────┤\n",
              "│ dense_167 (\u001b[38;5;33mDense\u001b[0m)                    │ (\u001b[38;5;45mNone\u001b[0m, \u001b[38;5;34m1\u001b[0m)                   │               \u001b[38;5;34m7\u001b[0m │\n",
              "└──────────────────────────────────────┴─────────────────────────────┴─────────────────┘\n"
            ],
            "text/html": [
              "<pre style=\"white-space:pre;overflow-x:auto;line-height:normal;font-family:Menlo,'DejaVu Sans Mono',consolas,'Courier New',monospace\">┏━━━━━━━━━━━━━━━━━━━━━━━━━━━━━━━━━━━━━━┳━━━━━━━━━━━━━━━━━━━━━━━━━━━━━┳━━━━━━━━━━━━━━━━━┓\n",
              "┃<span style=\"font-weight: bold\"> Layer (type)                         </span>┃<span style=\"font-weight: bold\"> Output Shape                </span>┃<span style=\"font-weight: bold\">         Param # </span>┃\n",
              "┡━━━━━━━━━━━━━━━━━━━━━━━━━━━━━━━━━━━━━━╇━━━━━━━━━━━━━━━━━━━━━━━━━━━━━╇━━━━━━━━━━━━━━━━━┩\n",
              "│ dense_164 (<span style=\"color: #0087ff; text-decoration-color: #0087ff\">Dense</span>)                    │ (<span style=\"color: #00d7ff; text-decoration-color: #00d7ff\">None</span>, <span style=\"color: #00af00; text-decoration-color: #00af00\">6</span>)                   │              <span style=\"color: #00af00; text-decoration-color: #00af00\">12</span> │\n",
              "├──────────────────────────────────────┼─────────────────────────────┼─────────────────┤\n",
              "│ dense_165 (<span style=\"color: #0087ff; text-decoration-color: #0087ff\">Dense</span>)                    │ (<span style=\"color: #00d7ff; text-decoration-color: #00d7ff\">None</span>, <span style=\"color: #00af00; text-decoration-color: #00af00\">6</span>)                   │              <span style=\"color: #00af00; text-decoration-color: #00af00\">42</span> │\n",
              "├──────────────────────────────────────┼─────────────────────────────┼─────────────────┤\n",
              "│ dense_166 (<span style=\"color: #0087ff; text-decoration-color: #0087ff\">Dense</span>)                    │ (<span style=\"color: #00d7ff; text-decoration-color: #00d7ff\">None</span>, <span style=\"color: #00af00; text-decoration-color: #00af00\">6</span>)                   │              <span style=\"color: #00af00; text-decoration-color: #00af00\">42</span> │\n",
              "├──────────────────────────────────────┼─────────────────────────────┼─────────────────┤\n",
              "│ dense_167 (<span style=\"color: #0087ff; text-decoration-color: #0087ff\">Dense</span>)                    │ (<span style=\"color: #00d7ff; text-decoration-color: #00d7ff\">None</span>, <span style=\"color: #00af00; text-decoration-color: #00af00\">1</span>)                   │               <span style=\"color: #00af00; text-decoration-color: #00af00\">7</span> │\n",
              "└──────────────────────────────────────┴─────────────────────────────┴─────────────────┘\n",
              "</pre>\n"
            ]
          },
          "metadata": {}
        },
        {
          "output_type": "display_data",
          "data": {
            "text/plain": [
              "\u001b[1m Total params: \u001b[0m\u001b[38;5;34m311\u001b[0m (1.22 KB)\n"
            ],
            "text/html": [
              "<pre style=\"white-space:pre;overflow-x:auto;line-height:normal;font-family:Menlo,'DejaVu Sans Mono',consolas,'Courier New',monospace\"><span style=\"font-weight: bold\"> Total params: </span><span style=\"color: #00af00; text-decoration-color: #00af00\">311</span> (1.22 KB)\n",
              "</pre>\n"
            ]
          },
          "metadata": {}
        },
        {
          "output_type": "display_data",
          "data": {
            "text/plain": [
              "\u001b[1m Trainable params: \u001b[0m\u001b[38;5;34m103\u001b[0m (412.00 B)\n"
            ],
            "text/html": [
              "<pre style=\"white-space:pre;overflow-x:auto;line-height:normal;font-family:Menlo,'DejaVu Sans Mono',consolas,'Courier New',monospace\"><span style=\"font-weight: bold\"> Trainable params: </span><span style=\"color: #00af00; text-decoration-color: #00af00\">103</span> (412.00 B)\n",
              "</pre>\n"
            ]
          },
          "metadata": {}
        },
        {
          "output_type": "display_data",
          "data": {
            "text/plain": [
              "\u001b[1m Non-trainable params: \u001b[0m\u001b[38;5;34m0\u001b[0m (0.00 B)\n"
            ],
            "text/html": [
              "<pre style=\"white-space:pre;overflow-x:auto;line-height:normal;font-family:Menlo,'DejaVu Sans Mono',consolas,'Courier New',monospace\"><span style=\"font-weight: bold\"> Non-trainable params: </span><span style=\"color: #00af00; text-decoration-color: #00af00\">0</span> (0.00 B)\n",
              "</pre>\n"
            ]
          },
          "metadata": {}
        },
        {
          "output_type": "display_data",
          "data": {
            "text/plain": [
              "\u001b[1m Optimizer params: \u001b[0m\u001b[38;5;34m208\u001b[0m (836.00 B)\n"
            ],
            "text/html": [
              "<pre style=\"white-space:pre;overflow-x:auto;line-height:normal;font-family:Menlo,'DejaVu Sans Mono',consolas,'Courier New',monospace\"><span style=\"font-weight: bold\"> Optimizer params: </span><span style=\"color: #00af00; text-decoration-color: #00af00\">208</span> (836.00 B)\n",
              "</pre>\n"
            ]
          },
          "metadata": {}
        },
        {
          "output_type": "stream",
          "name": "stdout",
          "text": [
            "\u001b[1m4/4\u001b[0m \u001b[32m━━━━━━━━━━━━━━━━━━━━\u001b[0m\u001b[37m\u001b[0m \u001b[1m0s\u001b[0m 18ms/step\n",
            "[1.0] => 1.00 (expected 1.00)\n",
            "[2.0] => 1.10 (expected 1.10)\n",
            "[3.0] => 1.19 (expected 1.17)\n",
            "[4.0] => 1.22 (expected 1.22)\n",
            "[5.0] => 1.25 (expected 1.26)\n",
            "[6.0] => 1.28 (expected 1.29)\n",
            "[7.0] => 1.31 (expected 1.32)\n",
            "[8.0] => 1.34 (expected 1.35)\n",
            "[9.0] => 1.37 (expected 1.37)\n",
            "[10.0] => 1.40 (expected 1.39)\n",
            "[11.0] => 1.43 (expected 1.41)\n",
            "[12.0] => 1.45 (expected 1.43)\n",
            "[13.0] => 1.46 (expected 1.44)\n",
            "[14.0] => 1.47 (expected 1.46)\n",
            "[15.0] => 1.48 (expected 1.47)\n",
            "[16.0] => 1.49 (expected 1.49)\n",
            "[17.0] => 1.50 (expected 1.50)\n",
            "[18.0] => 1.51 (expected 1.51)\n",
            "[19.0] => 1.51 (expected 1.52)\n",
            "[20.0] => 1.52 (expected 1.53)\n",
            "[21.0] => 1.53 (expected 1.54)\n",
            "[22.0] => 1.54 (expected 1.56)\n",
            "[23.0] => 1.55 (expected 1.57)\n",
            "[24.0] => 1.56 (expected 1.57)\n",
            "[25.0] => 1.57 (expected 1.58)\n",
            "[26.0] => 1.58 (expected 1.59)\n",
            "[27.0] => 1.59 (expected 1.60)\n",
            "[28.0] => 1.60 (expected 1.61)\n",
            "[29.0] => 1.60 (expected 1.62)\n",
            "[30.0] => 1.61 (expected 1.63)\n",
            "[31.0] => 1.62 (expected 1.63)\n",
            "[32.0] => 1.63 (expected 1.64)\n",
            "[33.0] => 1.64 (expected 1.65)\n",
            "[34.0] => 1.65 (expected 1.65)\n",
            "[35.0] => 1.66 (expected 1.66)\n",
            "[36.0] => 1.67 (expected 1.67)\n",
            "[37.0] => 1.68 (expected 1.68)\n",
            "[38.0] => 1.69 (expected 1.68)\n",
            "[39.0] => 1.69 (expected 1.69)\n",
            "[40.0] => 1.70 (expected 1.69)\n",
            "[41.0] => 1.70 (expected 1.70)\n",
            "[42.0] => 1.71 (expected 1.71)\n",
            "[43.0] => 1.71 (expected 1.71)\n",
            "[44.0] => 1.71 (expected 1.72)\n",
            "[45.0] => 1.72 (expected 1.72)\n",
            "[46.0] => 1.72 (expected 1.73)\n",
            "[47.0] => 1.73 (expected 1.73)\n",
            "[48.0] => 1.73 (expected 1.74)\n",
            "[49.0] => 1.73 (expected 1.74)\n",
            "[50.0] => 1.74 (expected 1.75)\n",
            "[51.0] => 1.74 (expected 1.75)\n",
            "[52.0] => 1.74 (expected 1.76)\n",
            "[53.0] => 1.75 (expected 1.76)\n",
            "[54.0] => 1.75 (expected 1.77)\n",
            "[55.0] => 1.75 (expected 1.77)\n",
            "[56.0] => 1.76 (expected 1.78)\n",
            "[57.0] => 1.76 (expected 1.78)\n",
            "[58.0] => 1.76 (expected 1.79)\n",
            "[59.0] => 1.77 (expected 1.79)\n",
            "[60.0] => 1.77 (expected 1.79)\n",
            "[61.0] => 1.77 (expected 1.80)\n",
            "[62.0] => 1.78 (expected 1.80)\n",
            "[63.0] => 1.78 (expected 1.81)\n",
            "[64.0] => 1.78 (expected 1.81)\n",
            "[65.0] => 1.79 (expected 1.82)\n",
            "[66.0] => 1.79 (expected 1.82)\n",
            "[67.0] => 1.79 (expected 1.82)\n",
            "[68.0] => 1.80 (expected 1.83)\n",
            "[69.0] => 1.80 (expected 1.83)\n",
            "[70.0] => 1.81 (expected 1.83)\n",
            "[71.0] => 1.81 (expected 1.84)\n",
            "[72.0] => 1.81 (expected 1.84)\n",
            "[73.0] => 1.82 (expected 1.85)\n",
            "[74.0] => 1.82 (expected 1.85)\n",
            "[75.0] => 1.82 (expected 1.85)\n",
            "[76.0] => 1.83 (expected 1.86)\n",
            "[77.0] => 1.83 (expected 1.86)\n",
            "[78.0] => 1.83 (expected 1.86)\n",
            "[79.0] => 1.84 (expected 1.87)\n",
            "[80.0] => 1.84 (expected 1.87)\n",
            "[81.0] => 1.84 (expected 1.87)\n",
            "[82.0] => 1.85 (expected 1.88)\n",
            "[83.0] => 1.85 (expected 1.88)\n",
            "[84.0] => 1.85 (expected 1.88)\n",
            "[85.0] => 1.86 (expected 1.89)\n",
            "[86.0] => 1.86 (expected 1.89)\n",
            "[87.0] => 1.86 (expected 1.89)\n",
            "[88.0] => 1.87 (expected 1.90)\n",
            "[89.0] => 1.87 (expected 1.90)\n",
            "[90.0] => 1.87 (expected 1.90)\n",
            "[91.0] => 1.88 (expected 1.90)\n",
            "[92.0] => 1.88 (expected 1.91)\n",
            "[93.0] => 1.89 (expected 1.91)\n",
            "[94.0] => 1.89 (expected 1.91)\n",
            "[95.0] => 1.89 (expected 1.92)\n",
            "[96.0] => 1.90 (expected 1.92)\n",
            "[97.0] => 1.90 (expected 1.92)\n",
            "[98.0] => 1.90 (expected 1.93)\n",
            "[99.0] => 1.91 (expected 1.93)\n",
            "[100.0] => 1.91 (expected 1.93)\n"
          ]
        },
        {
          "output_type": "stream",
          "name": "stderr",
          "text": [
            "<ipython-input-89-a65213a9db67>:43: DeprecationWarning: Conversion of an array with ndim > 0 to a scalar is deprecated, and will error in future. Ensure you extract a single element from your array before performing this operation. (Deprecated NumPy 1.25.)\n",
            "  print('%s => %.2f (expected %.2f)' %(X[i].tolist(), predictions[i], y[i]) )\n"
          ]
        }
      ],
      "source": [
        "import tensorflow as tf\n",
        "from numpy import loadtxt\n",
        "from keras.models import Sequential\n",
        "from keras.layers import Dense\n",
        "from keras import optimizers\n",
        "from tensorflow.python.keras.optimizers import *\n",
        "import numpy as np\n",
        "import torch\n",
        "\n",
        "#Load dataset\n",
        "X = np.zeros((100,1))\n",
        "y = np.zeros((100,1))\n",
        "\n",
        "for i in range(1,101):\n",
        "  X[i-1] = np.arange(i,(i+1))\n",
        "  y[i-1] = np.power(i, 1/7)\n",
        "\n",
        "X= X*1.0\n",
        "y= y*1.0\n",
        "\n",
        "#define keras model\n",
        "model = Sequential()\n",
        "\n",
        "model.add(Dense(6,input_dim=1,activation='relu'))\n",
        "model.add(Dense(6,activation='relu'))\n",
        "model.add(Dense(6,activation='relu'))\n",
        "model.add(Dense(1))\n",
        "\n",
        "#compile the keras model\n",
        "opt = optimizers.Adam(learning_rate=0.001)\n",
        "mse = tf.keras.losses.MeanSquaredError(\n",
        "    reduction=tf.keras.losses.Reduction.SUM)\n",
        "model.compile(loss=mse, optimizer=opt)\n",
        "\n",
        "#fit the keras model on the dataset (CPU)\n",
        "model.fit(X,y,epochs=2000, batch_size=10, verbose=0)\n",
        "model.summary()\n",
        "\n",
        "#make class predictions with the model\n",
        "predictions = model.predict(X)\n",
        "#summarize the first 100 cases\n",
        "for i in range(100):\n",
        "    print('%s => %.2f (expected %.2f)' %(X[i].tolist(), predictions[i], y[i]) )"
      ]
    },
    {
      "cell_type": "code",
      "execution_count": null,
      "metadata": {
        "colab": {
          "base_uri": "https://localhost:8080/",
          "height": 484
        },
        "id": "n1CIXUlPjkct",
        "outputId": "54da9820-b61b-4858-fa7c-c4ef52bca516"
      },
      "outputs": [
        {
          "output_type": "stream",
          "name": "stdout",
          "text": [
            "\u001b[1m4/4\u001b[0m \u001b[32m━━━━━━━━━━━━━━━━━━━━\u001b[0m\u001b[37m\u001b[0m \u001b[1m0s\u001b[0m 3ms/step \n"
          ]
        },
        {
          "output_type": "execute_result",
          "data": {
            "text/plain": [
              "<matplotlib.legend.Legend at 0x79f5f0d40b90>"
            ]
          },
          "metadata": {},
          "execution_count": 90
        },
        {
          "output_type": "display_data",
          "data": {
            "text/plain": [
              "<Figure size 640x480 with 1 Axes>"
            ],
            "image/png": "[encoded data removed]"
          },
          "metadata": {}
        }
      ],
      "source": [
        "import matplotlib.pyplot as plt\n",
        "number_grid = np.linspace(1, 100, 100)\n",
        "plt.scatter(X,y, label='data')\n",
        "plt.plot(number_grid,model.predict(np.expand_dims(number_grid,axis=1)) , color='red', label='model')\n",
        "plt.xlabel('number')\n",
        "plt.ylabel('7th root')\n",
        "plt.legend()"
      ]
    },
    {
      "cell_type": "code",
      "execution_count": null,
      "metadata": {
        "id": "1zQJWjdbyGzH"
      },
      "outputs": [],
      "source": []
    }
  ],
  "metadata": {
    "colab": {
      "provenance": []
    },
    "kernelspec": {
      "display_name": "Python 3 (ipykernel)",
      "language": "python",
      "name": "python3"
    },
    "language_info": {
      "codemirror_mode": {
        "name": "ipython",
        "version": 3
      },
      "file_extension": ".py",
      "mimetype": "text/x-python",
      "name": "python",
      "nbconvert_exporter": "python",
      "pygments_lexer": "ipython3",
      "version": "3.8.8"
    }
  },
  "nbformat": 4,
  "nbformat_minor": 0
}