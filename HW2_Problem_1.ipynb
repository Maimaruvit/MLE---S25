{
  "nbformat": 4,
  "nbformat_minor": 0,
  "metadata": {
    "colab": {
      "provenance": []
    },
    "kernelspec": {
      "name": "python3",
      "display_name": "Python 3"
    },
    "language_info": {
      "name": "python"
    }
  },
  "cells": [
    {
      "cell_type": "markdown",
      "source": [
        "HW2 Problem 1\n",
        "\n",
        "Use the Iris dataset and the SVM code shown in the first class. Define two\n",
        " new features using the original four features and then calculate the accuracy score of\n",
        " classification. The SVM classifier must use the new features and none of the original\n",
        " features for classification."
      ],
      "metadata": {
        "id": "Ql2yS363TdHn"
      }
    },
    {
      "cell_type": "code",
      "execution_count": null,
      "metadata": {
        "colab": {
          "base_uri": "https://localhost:8080/"
        },
        "id": "ikmJQK1yTbX9",
        "outputId": "5fe51d03-82da-4e17-9f20-bf8c80ff17d2"
      },
      "outputs": [
        {
          "output_type": "execute_result",
          "data": {
            "text/plain": [
              "['sepal length (cm)',\n",
              " 'sepal width (cm)',\n",
              " 'petal length (cm)',\n",
              " 'petal width (cm)',\n",
              " 'sepal area (cm^2)',\n",
              " 'petal area (cm^2)']"
            ]
          },
          "metadata": {},
          "execution_count": 29
        }
      ],
      "source": [
        "from sklearn import datasets\n",
        "import numpy as np\n",
        "\n",
        "iris = datasets.load_iris()\n",
        "\n",
        "#Define Two new features, the areas of the sepal and petal\n",
        "iris.feature_names.append(\"sepal area (cm^2)\")\n",
        "iris.feature_names.append(\"petal area (cm^2)\")\n",
        "\n",
        "iris.data = np.column_stack((iris.data, np.zeros((150,2))))\n",
        "\n",
        "iris.feature_names"
      ]
    },
    {
      "cell_type": "code",
      "source": [
        "#Calculate the areas\n",
        "sepal_length = iris.data[:, 0]\n",
        "sepal_width = iris.data[:, 1]\n",
        "\n",
        "petal_length = iris.data[:, 2]\n",
        "petal_width = iris.data[:, 3]\n",
        "\n",
        "n = petal_width.size\n",
        "\n",
        "for i in range(n):\n",
        "  iris.data[i,4] = sepal_length[i]*sepal_width[i]\n",
        "  iris.data[i,5] = petal_length[i]*petal_width[i]\n",
        "\n",
        "X = iris.data[:, 4:5]\n",
        "y = iris.target"
      ],
      "metadata": {
        "id": "c2LF5fNDUU9q"
      },
      "execution_count": null,
      "outputs": []
    },
    {
      "cell_type": "code",
      "source": [
        "from sklearn.model_selection import train_test_split\n",
        "\n",
        "X_train, X_test, y_train, y_test=train_test_split(\n",
        "    X,y,\n",
        "    test_size=0.40,\n",
        "    train_size=0.60,\n",
        "    random_state=123,\n",
        "    shuffle=True,\n",
        "    stratify=y)"
      ],
      "metadata": {
        "id": "l0qmo-DETxWM"
      },
      "execution_count": null,
      "outputs": []
    },
    {
      "cell_type": "code",
      "source": [
        "from sklearn import svm\n",
        "\n",
        "clf = svm.SVC()\n",
        "clf.fit(X_train, y_train)"
      ],
      "metadata": {
        "id": "D5X6VQLUTxaJ"
      },
      "execution_count": null,
      "outputs": []
    },
    {
      "cell_type": "code",
      "source": [
        "from sklearn.metrics import accuracy_score\n",
        "acc = accuracy_score(y_test,clf.predict(X_test) )\n",
        "print('accuracy score :', acc)"
      ],
      "metadata": {
        "id": "YHOhjXz7UFFb",
        "colab": {
          "base_uri": "https://localhost:8080/"
        },
        "outputId": "b9f17294-4de7-4995-decd-38618ef07fed"
      },
      "execution_count": null,
      "outputs": [
        {
          "output_type": "stream",
          "name": "stdout",
          "text": [
            "accuracy score : 0.45\n"
          ]
        }
      ]
    }
  ]
}