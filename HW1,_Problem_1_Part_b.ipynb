{
  "nbformat": 4,
  "nbformat_minor": 0,
  "metadata": {
    "colab": {
      "provenance": []
    },
    "kernelspec": {
      "name": "python3",
      "display_name": "Python 3"
    },
    "language_info": {
      "name": "python"
    }
  },
  "cells": [
    {
      "cell_type": "markdown",
      "source": [
        "HW1, Problem 1 Part b"
      ],
      "metadata": {
        "id": "HU6j0xt0APsK"
      }
    },
    {
      "cell_type": "code",
      "execution_count": null,
      "metadata": {
        "colab": {
          "base_uri": "https://localhost:8080/"
        },
        "id": "poxPq6Dq-9Bt",
        "outputId": "6d9901a5-ec8a-46a9-c6d1-a46ccb953751"
      },
      "outputs": [
        {
          "output_type": "stream",
          "name": "stdout",
          "text": [
            "The L1 norm of x1 is  26.0\n",
            "The L2 norm of x1 is  13.19090595827292\n",
            "The L_inf norm of x1 is  9.0\n",
            "The L1 norm of x2 is  98.0\n",
            "The L2 norm of x2 is  89.16277250063504\n",
            "The L_inf norm of x2 is  89.0\n"
          ]
        }
      ],
      "source": [
        "import numpy as np\n",
        "\n",
        "x1 = np.array([2,3,4,8,9])\n",
        "\n",
        "x2 =  np.array([2,-3,-4,89])\n",
        "\n",
        "x1_1 = np.linalg.norm(x1, ord=1, axis=None, keepdims=False)\n",
        "x1_2 = np.linalg.norm(x1, ord=2, axis=None, keepdims=False)\n",
        "x1_inf = np.linalg.norm(x1, ord=np.inf, axis=None, keepdims=False)\n",
        "\n",
        "print(\"The L1 norm of x1 is \", x1_1)\n",
        "print(\"The L2 norm of x1 is \", x1_2)\n",
        "print(\"The L_inf norm of x1 is \", x1_inf)\n",
        "\n",
        "x2_1 = np.linalg.norm(x2, ord=1, axis=None, keepdims=False)\n",
        "x2_2 = np.linalg.norm(x2, ord=2, axis=None, keepdims=False)\n",
        "x2_inf = np.linalg.norm(x2, ord=np.inf, axis=None, keepdims=False)\n",
        "\n",
        "print(\"The L1 norm of x2 is \", x2_1)\n",
        "print(\"The L2 norm of x2 is \", x2_2)\n",
        "print(\"The L_inf norm of x2 is \", x2_inf)"
      ]
    }
  ]
}