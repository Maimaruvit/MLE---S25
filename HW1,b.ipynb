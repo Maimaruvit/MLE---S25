{
  "nbformat": 4,
  "nbformat_minor": 0,
  "metadata": {
    "colab": {
      "provenance": []
    },
    "kernelspec": {
      "name": "python3",
      "display_name": "Python 3"
    },
    "language_info": {
      "name": "python"
    }
  },
  "cells": [
    {
      "cell_type": "markdown",
      "source": [
        "HW1, Problem 1 Part b"
      ],
      "metadata": {
        "id": "HU6j0xt0APsK"
      }
    },
    {
      "cell_type": "code",
      "execution_count": 3,
      "metadata": {
        "colab": {
          "base_uri": "https://localhost:8080/"
        },
        "id": "poxPq6Dq-9Bt",
        "outputId": "cf580331-75b4-4094-efb8-8ed0745ccc42"
      },
      "outputs": [
        {
          "output_type": "stream",
          "name": "stdout",
          "text": [
            "The L1 norm of W is  3.0\n",
            "The L2 norm of W is  2.2882456112707374\n",
            "The L_inf norm of W is  2.0\n"
          ]
        }
      ],
      "source": [
        "import numpy as np\n",
        "\n",
        "W = np.array([[1, -1], [2, 0]])\n",
        "\n",
        "b1 = np.linalg.norm(W, ord=1, axis=None, keepdims=False)\n",
        "b2 = np.linalg.norm(W, ord=2, axis=None, keepdims=False)\n",
        "binf = np.linalg.norm(W, ord=np.inf, axis=None, keepdims=False)\n",
        "\n",
        "print(\"The L1 norm of W is \", b1)\n",
        "print(\"The L2 norm of W is \", b2)\n",
        "print(\"The L_inf norm of W is \", binf)"
      ]
    }
  ]
}